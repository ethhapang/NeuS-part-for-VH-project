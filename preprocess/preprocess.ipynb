{
 "cells": [
  {
   "cell_type": "code",
   "execution_count": null,
   "id": "5f33f108",
   "metadata": {},
   "outputs": [],
   "source": [
    "# please change the path to your case\n",
    "# This part is to change the .jpg to .png in images\n",
    "path_name='/Users/haokaipang/Desktop/euler_output/home/Neus/public_data/mocap313_sparse/image'\n",
    "list_path = os.listdir(path_name)\n",
    "for item in list_path:\n",
    "    os.rename(os.path.join(path_name,item),os.path.join(path_name,(item.split('.')[0] + '.png')))"
   ]
  },
  {
   "cell_type": "code",
   "execution_count": 11,
   "id": "f19da82a",
   "metadata": {},
   "outputs": [],
   "source": [
    "import numpy as np"
   ]
  },
  {
   "cell_type": "code",
   "execution_count": 12,
   "id": "c16ddf6a",
   "metadata": {},
   "outputs": [],
   "source": [
    "# please change the directory of annots.py in your case\n",
    "camera = np.load('/Users/haokaipang/Desktop/annots.npy', allow_pickle=True).item()"
   ]
  },
  {
   "cell_type": "code",
   "execution_count": 13,
   "id": "bb52baa1",
   "metadata": {},
   "outputs": [
    {
     "name": "stdout",
     "output_type": "stream",
     "text": [
      "21\n"
     ]
    }
   ],
   "source": [
    "print(len(camera['cams']['K']))"
   ]
  },
  {
   "cell_type": "code",
   "execution_count": 14,
   "id": "1fc9a9fa",
   "metadata": {},
   "outputs": [],
   "source": [
    "for i in range(len(camera['cams']['K'])):\n",
    "    K = np.asarray(camera['cams']['K'][i])\n",
    "    R = np.asarray(camera['cams']['R'][i])\n",
    "    T = np.asarray(camera['cams']['T'][i])\n",
    "    RT = np.concatenate((R,T),axis=1)\n",
    "    proj_matrix = np.concatenate((K@RT,[[0,0,0,1]]),axis=0)   \n",
    "    name='world_mat_'+str(i)\n",
    "    locals()['world_mat_'+str(i)] = proj_matrix"
   ]
  },
  {
   "cell_type": "code",
   "execution_count": 15,
   "id": "e09c71cf",
   "metadata": {},
   "outputs": [],
   "source": [
    "# please change the directory of cameras.npz in your case\n",
    "# change also the total number of matrix in the following function\n",
    "np.savez('/Users/haokaipang/Desktop/cameras.npz',world_mat_0=world_mat_0,world_mat_1=world_mat_1,world_mat_2=world_mat_2,world_mat_3=world_mat_3,world_mat_4=world_mat_4,\n",
    "        world_mat_5=world_mat_5,world_mat_6=world_mat_6,world_mat_7=world_mat_7,world_mat_8=world_mat_8,world_mat_9=world_mat_9,\n",
    "        world_mat_10=world_mat_10,world_mat_11=world_mat_11,world_mat_12=world_mat_12,world_mat_13=world_mat_13,world_mat_14=world_mat_14,\n",
    "        world_mat_15=world_mat_15,world_mat_16=world_mat_16,world_mat_17=world_mat_17,world_mat_18=world_mat_18,\n",
    "        world_mat_19=world_mat_19,world_mat_20=world_mat_20)"
   ]
  }
 ],
 "metadata": {
  "kernelspec": {
   "display_name": "Python 3",
   "language": "python",
   "name": "python3"
  },
  "language_info": {
   "codemirror_mode": {
    "name": "ipython",
    "version": 3
   },
   "file_extension": ".py",
   "mimetype": "text/x-python",
   "name": "python",
   "nbconvert_exporter": "python",
   "pygments_lexer": "ipython3",
   "version": "3.9.12"
  }
 },
 "nbformat": 4,
 "nbformat_minor": 5
}
